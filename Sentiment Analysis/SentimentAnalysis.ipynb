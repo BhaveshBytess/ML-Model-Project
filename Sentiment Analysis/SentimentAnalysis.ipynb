{
  "nbformat": 4,
  "nbformat_minor": 0,
  "metadata": {
    "colab": {
      "provenance": []
    },
    "kernelspec": {
      "name": "python3",
      "display_name": "Python 3"
    },
    "language_info": {
      "name": "python"
    }
  },
  "cells": [
    {
      "cell_type": "markdown",
      "source": [
        "# Making a Sentiment Analaysis NLP model using Scikit-Learn\n",
        "\n",
        "\n",
        "### 1. Problem Definition\n",
        "- Given a statement, can we predict the sentiment it is expressing (Postive or Negative)\n",
        "\n",
        "### 2. Data\n",
        "- A collection of 10000 amazon reviews : https://jmcauley.ucsd.edu/data/amazon/\n",
        "\n"
      ],
      "metadata": {
        "id": "uQHDc7GbR7aa"
      }
    },
    {
      "cell_type": "markdown",
      "source": [
        "# Question\n",
        "- What is an NLP, how is sentiment analysis an NLP, and how are they different from LLM :\n",
        "NLP is the overarching field that deals with language-related tasks, and sentiment analysis is a specific application within NLP. Language Models are a type of model used in NLP, with the primary focus on understanding and generating human-like text\n",
        "\n",
        "- Some real life examples of Sentiment analysis :\n",
        "Customer feedback analysis, Social media monitoring and even political opinion analysis\n",
        "\n",
        "- How does a model actually works\n",
        "- What are different types of models, explain classification and regression\n",
        "- Supervised and unsupervised learning\n",
        "- Different types of file formats of data\n",
        "- Overfitting and Underfitting"
      ],
      "metadata": {
        "id": "vPbunbRpNYzj"
      }
    },
    {
      "cell_type": "markdown",
      "source": [
        "# Load Data"
      ],
      "metadata": {
        "id": "PteJt_VyUuI0"
      }
    },
    {
      "cell_type": "markdown",
      "source": [
        "# Question\n",
        "- Explain different file formats in which data is usually given like json, xlsx and csv"
      ],
      "metadata": {
        "id": "iVJhP4puO1ED"
      }
    },
    {
      "cell_type": "code",
      "source": [
        "import pandas as pd\n",
        "data = \"/content/Books_small_10000.json\"\n",
        "df = pd.read_json(data, lines=True)\n",
        "df.head()"
      ],
      "metadata": {
        "colab": {
          "base_uri": "https://localhost:8080/",
          "height": 206
        },
        "id": "7SLQh6t1Uf0G",
        "outputId": "08a4f327-ac0c-4c34-b79d-9ca94ba7ed3c"
      },
      "execution_count": null,
      "outputs": [
        {
          "output_type": "execute_result",
          "data": {
            "text/plain": [
              "       reviewerID        asin                     reviewerName helpful  \\\n",
              "0  A1F2H80A1ZNN1N  B00GDM3NQC                   Connie Correll  [0, 0]   \n",
              "1   AI3DRTKCSK4KX  B00A5MREAM                          Grandma  [0, 0]   \n",
              "2  A3KAKFHY9DAC8A  0446547573  toobusyreading \"Inspired Kathy\"  [1, 1]   \n",
              "3   ATYBCYD6BIXVL  0955809215                         Chrissie  [0, 0]   \n",
              "4  A17K95SEU3J68U  0991500776                Sirde \"artist761\"  [0, 0]   \n",
              "\n",
              "                                          reviewText  overall  \\\n",
              "0  I bought both boxed sets, books 1-5.  Really a...        5   \n",
              "1  I enjoyed this short book. But it was way way ...        3   \n",
              "2  I love Nicholas Sparks. I&#8217;ve read everyt...        4   \n",
              "3  I really enjoyed this adventure and look forwa...        4   \n",
              "4  It was a decent read.. typical story line. Not...        3   \n",
              "\n",
              "                                         summary  unixReviewTime   reviewTime  \n",
              "0                            Can't stop reading!      1390435200  01 23, 2014  \n",
              "1              A leaf on the wind of all hallows      1399593600   05 9, 2014  \n",
              "2            Great writing from Nicholas Sparks.      1404518400   07 5, 2014  \n",
              "3                                          great      1389225600   01 9, 2014  \n",
              "4  It was a decent read.. typical story line ...      1404864000   07 9, 2014  "
            ],
            "text/html": [
              "\n",
              "  <div id=\"df-956f4d6d-a6fd-4bba-a7bc-8637c04da11c\" class=\"colab-df-container\">\n",
              "    <div>\n",
              "<style scoped>\n",
              "    .dataframe tbody tr th:only-of-type {\n",
              "        vertical-align: middle;\n",
              "    }\n",
              "\n",
              "    .dataframe tbody tr th {\n",
              "        vertical-align: top;\n",
              "    }\n",
              "\n",
              "    .dataframe thead th {\n",
              "        text-align: right;\n",
              "    }\n",
              "</style>\n",
              "<table border=\"1\" class=\"dataframe\">\n",
              "  <thead>\n",
              "    <tr style=\"text-align: right;\">\n",
              "      <th></th>\n",
              "      <th>reviewerID</th>\n",
              "      <th>asin</th>\n",
              "      <th>reviewerName</th>\n",
              "      <th>helpful</th>\n",
              "      <th>reviewText</th>\n",
              "      <th>overall</th>\n",
              "      <th>summary</th>\n",
              "      <th>unixReviewTime</th>\n",
              "      <th>reviewTime</th>\n",
              "    </tr>\n",
              "  </thead>\n",
              "  <tbody>\n",
              "    <tr>\n",
              "      <th>0</th>\n",
              "      <td>A1F2H80A1ZNN1N</td>\n",
              "      <td>B00GDM3NQC</td>\n",
              "      <td>Connie Correll</td>\n",
              "      <td>[0, 0]</td>\n",
              "      <td>I bought both boxed sets, books 1-5.  Really a...</td>\n",
              "      <td>5</td>\n",
              "      <td>Can't stop reading!</td>\n",
              "      <td>1390435200</td>\n",
              "      <td>01 23, 2014</td>\n",
              "    </tr>\n",
              "    <tr>\n",
              "      <th>1</th>\n",
              "      <td>AI3DRTKCSK4KX</td>\n",
              "      <td>B00A5MREAM</td>\n",
              "      <td>Grandma</td>\n",
              "      <td>[0, 0]</td>\n",
              "      <td>I enjoyed this short book. But it was way way ...</td>\n",
              "      <td>3</td>\n",
              "      <td>A leaf on the wind of all hallows</td>\n",
              "      <td>1399593600</td>\n",
              "      <td>05 9, 2014</td>\n",
              "    </tr>\n",
              "    <tr>\n",
              "      <th>2</th>\n",
              "      <td>A3KAKFHY9DAC8A</td>\n",
              "      <td>0446547573</td>\n",
              "      <td>toobusyreading \"Inspired Kathy\"</td>\n",
              "      <td>[1, 1]</td>\n",
              "      <td>I love Nicholas Sparks. I&amp;#8217;ve read everyt...</td>\n",
              "      <td>4</td>\n",
              "      <td>Great writing from Nicholas Sparks.</td>\n",
              "      <td>1404518400</td>\n",
              "      <td>07 5, 2014</td>\n",
              "    </tr>\n",
              "    <tr>\n",
              "      <th>3</th>\n",
              "      <td>ATYBCYD6BIXVL</td>\n",
              "      <td>0955809215</td>\n",
              "      <td>Chrissie</td>\n",
              "      <td>[0, 0]</td>\n",
              "      <td>I really enjoyed this adventure and look forwa...</td>\n",
              "      <td>4</td>\n",
              "      <td>great</td>\n",
              "      <td>1389225600</td>\n",
              "      <td>01 9, 2014</td>\n",
              "    </tr>\n",
              "    <tr>\n",
              "      <th>4</th>\n",
              "      <td>A17K95SEU3J68U</td>\n",
              "      <td>0991500776</td>\n",
              "      <td>Sirde \"artist761\"</td>\n",
              "      <td>[0, 0]</td>\n",
              "      <td>It was a decent read.. typical story line. Not...</td>\n",
              "      <td>3</td>\n",
              "      <td>It was a decent read.. typical story line ...</td>\n",
              "      <td>1404864000</td>\n",
              "      <td>07 9, 2014</td>\n",
              "    </tr>\n",
              "  </tbody>\n",
              "</table>\n",
              "</div>\n",
              "    <div class=\"colab-df-buttons\">\n",
              "\n",
              "  <div class=\"colab-df-container\">\n",
              "    <button class=\"colab-df-convert\" onclick=\"convertToInteractive('df-956f4d6d-a6fd-4bba-a7bc-8637c04da11c')\"\n",
              "            title=\"Convert this dataframe to an interactive table.\"\n",
              "            style=\"display:none;\">\n",
              "\n",
              "  <svg xmlns=\"http://www.w3.org/2000/svg\" height=\"24px\" viewBox=\"0 -960 960 960\">\n",
              "    <path d=\"M120-120v-720h720v720H120Zm60-500h600v-160H180v160Zm220 220h160v-160H400v160Zm0 220h160v-160H400v160ZM180-400h160v-160H180v160Zm440 0h160v-160H620v160ZM180-180h160v-160H180v160Zm440 0h160v-160H620v160Z\"/>\n",
              "  </svg>\n",
              "    </button>\n",
              "\n",
              "  <style>\n",
              "    .colab-df-container {\n",
              "      display:flex;\n",
              "      gap: 12px;\n",
              "    }\n",
              "\n",
              "    .colab-df-convert {\n",
              "      background-color: #E8F0FE;\n",
              "      border: none;\n",
              "      border-radius: 50%;\n",
              "      cursor: pointer;\n",
              "      display: none;\n",
              "      fill: #1967D2;\n",
              "      height: 32px;\n",
              "      padding: 0 0 0 0;\n",
              "      width: 32px;\n",
              "    }\n",
              "\n",
              "    .colab-df-convert:hover {\n",
              "      background-color: #E2EBFA;\n",
              "      box-shadow: 0px 1px 2px rgba(60, 64, 67, 0.3), 0px 1px 3px 1px rgba(60, 64, 67, 0.15);\n",
              "      fill: #174EA6;\n",
              "    }\n",
              "\n",
              "    .colab-df-buttons div {\n",
              "      margin-bottom: 4px;\n",
              "    }\n",
              "\n",
              "    [theme=dark] .colab-df-convert {\n",
              "      background-color: #3B4455;\n",
              "      fill: #D2E3FC;\n",
              "    }\n",
              "\n",
              "    [theme=dark] .colab-df-convert:hover {\n",
              "      background-color: #434B5C;\n",
              "      box-shadow: 0px 1px 3px 1px rgba(0, 0, 0, 0.15);\n",
              "      filter: drop-shadow(0px 1px 2px rgba(0, 0, 0, 0.3));\n",
              "      fill: #FFFFFF;\n",
              "    }\n",
              "  </style>\n",
              "\n",
              "    <script>\n",
              "      const buttonEl =\n",
              "        document.querySelector('#df-956f4d6d-a6fd-4bba-a7bc-8637c04da11c button.colab-df-convert');\n",
              "      buttonEl.style.display =\n",
              "        google.colab.kernel.accessAllowed ? 'block' : 'none';\n",
              "\n",
              "      async function convertToInteractive(key) {\n",
              "        const element = document.querySelector('#df-956f4d6d-a6fd-4bba-a7bc-8637c04da11c');\n",
              "        const dataTable =\n",
              "          await google.colab.kernel.invokeFunction('convertToInteractive',\n",
              "                                                    [key], {});\n",
              "        if (!dataTable) return;\n",
              "\n",
              "        const docLinkHtml = 'Like what you see? Visit the ' +\n",
              "          '<a target=\"_blank\" href=https://colab.research.google.com/notebooks/data_table.ipynb>data table notebook</a>'\n",
              "          + ' to learn more about interactive tables.';\n",
              "        element.innerHTML = '';\n",
              "        dataTable['output_type'] = 'display_data';\n",
              "        await google.colab.output.renderOutput(dataTable, element);\n",
              "        const docLink = document.createElement('div');\n",
              "        docLink.innerHTML = docLinkHtml;\n",
              "        element.appendChild(docLink);\n",
              "      }\n",
              "    </script>\n",
              "  </div>\n",
              "\n",
              "\n",
              "<div id=\"df-29bd6304-23e9-45db-894f-adf32a4749e9\">\n",
              "  <button class=\"colab-df-quickchart\" onclick=\"quickchart('df-29bd6304-23e9-45db-894f-adf32a4749e9')\"\n",
              "            title=\"Suggest charts\"\n",
              "            style=\"display:none;\">\n",
              "\n",
              "<svg xmlns=\"http://www.w3.org/2000/svg\" height=\"24px\"viewBox=\"0 0 24 24\"\n",
              "     width=\"24px\">\n",
              "    <g>\n",
              "        <path d=\"M19 3H5c-1.1 0-2 .9-2 2v14c0 1.1.9 2 2 2h14c1.1 0 2-.9 2-2V5c0-1.1-.9-2-2-2zM9 17H7v-7h2v7zm4 0h-2V7h2v10zm4 0h-2v-4h2v4z\"/>\n",
              "    </g>\n",
              "</svg>\n",
              "  </button>\n",
              "\n",
              "<style>\n",
              "  .colab-df-quickchart {\n",
              "      --bg-color: #E8F0FE;\n",
              "      --fill-color: #1967D2;\n",
              "      --hover-bg-color: #E2EBFA;\n",
              "      --hover-fill-color: #174EA6;\n",
              "      --disabled-fill-color: #AAA;\n",
              "      --disabled-bg-color: #DDD;\n",
              "  }\n",
              "\n",
              "  [theme=dark] .colab-df-quickchart {\n",
              "      --bg-color: #3B4455;\n",
              "      --fill-color: #D2E3FC;\n",
              "      --hover-bg-color: #434B5C;\n",
              "      --hover-fill-color: #FFFFFF;\n",
              "      --disabled-bg-color: #3B4455;\n",
              "      --disabled-fill-color: #666;\n",
              "  }\n",
              "\n",
              "  .colab-df-quickchart {\n",
              "    background-color: var(--bg-color);\n",
              "    border: none;\n",
              "    border-radius: 50%;\n",
              "    cursor: pointer;\n",
              "    display: none;\n",
              "    fill: var(--fill-color);\n",
              "    height: 32px;\n",
              "    padding: 0;\n",
              "    width: 32px;\n",
              "  }\n",
              "\n",
              "  .colab-df-quickchart:hover {\n",
              "    background-color: var(--hover-bg-color);\n",
              "    box-shadow: 0 1px 2px rgba(60, 64, 67, 0.3), 0 1px 3px 1px rgba(60, 64, 67, 0.15);\n",
              "    fill: var(--button-hover-fill-color);\n",
              "  }\n",
              "\n",
              "  .colab-df-quickchart-complete:disabled,\n",
              "  .colab-df-quickchart-complete:disabled:hover {\n",
              "    background-color: var(--disabled-bg-color);\n",
              "    fill: var(--disabled-fill-color);\n",
              "    box-shadow: none;\n",
              "  }\n",
              "\n",
              "  .colab-df-spinner {\n",
              "    border: 2px solid var(--fill-color);\n",
              "    border-color: transparent;\n",
              "    border-bottom-color: var(--fill-color);\n",
              "    animation:\n",
              "      spin 1s steps(1) infinite;\n",
              "  }\n",
              "\n",
              "  @keyframes spin {\n",
              "    0% {\n",
              "      border-color: transparent;\n",
              "      border-bottom-color: var(--fill-color);\n",
              "      border-left-color: var(--fill-color);\n",
              "    }\n",
              "    20% {\n",
              "      border-color: transparent;\n",
              "      border-left-color: var(--fill-color);\n",
              "      border-top-color: var(--fill-color);\n",
              "    }\n",
              "    30% {\n",
              "      border-color: transparent;\n",
              "      border-left-color: var(--fill-color);\n",
              "      border-top-color: var(--fill-color);\n",
              "      border-right-color: var(--fill-color);\n",
              "    }\n",
              "    40% {\n",
              "      border-color: transparent;\n",
              "      border-right-color: var(--fill-color);\n",
              "      border-top-color: var(--fill-color);\n",
              "    }\n",
              "    60% {\n",
              "      border-color: transparent;\n",
              "      border-right-color: var(--fill-color);\n",
              "    }\n",
              "    80% {\n",
              "      border-color: transparent;\n",
              "      border-right-color: var(--fill-color);\n",
              "      border-bottom-color: var(--fill-color);\n",
              "    }\n",
              "    90% {\n",
              "      border-color: transparent;\n",
              "      border-bottom-color: var(--fill-color);\n",
              "    }\n",
              "  }\n",
              "</style>\n",
              "\n",
              "  <script>\n",
              "    async function quickchart(key) {\n",
              "      const quickchartButtonEl =\n",
              "        document.querySelector('#' + key + ' button');\n",
              "      quickchartButtonEl.disabled = true;  // To prevent multiple clicks.\n",
              "      quickchartButtonEl.classList.add('colab-df-spinner');\n",
              "      try {\n",
              "        const charts = await google.colab.kernel.invokeFunction(\n",
              "            'suggestCharts', [key], {});\n",
              "      } catch (error) {\n",
              "        console.error('Error during call to suggestCharts:', error);\n",
              "      }\n",
              "      quickchartButtonEl.classList.remove('colab-df-spinner');\n",
              "      quickchartButtonEl.classList.add('colab-df-quickchart-complete');\n",
              "    }\n",
              "    (() => {\n",
              "      let quickchartButtonEl =\n",
              "        document.querySelector('#df-29bd6304-23e9-45db-894f-adf32a4749e9 button');\n",
              "      quickchartButtonEl.style.display =\n",
              "        google.colab.kernel.accessAllowed ? 'block' : 'none';\n",
              "    })();\n",
              "  </script>\n",
              "</div>\n",
              "    </div>\n",
              "  </div>\n"
            ]
          },
          "metadata": {},
          "execution_count": 102
        }
      ]
    },
    {
      "cell_type": "markdown",
      "source": [
        "# Now let's start with data preprocessing"
      ],
      "metadata": {
        "id": "rzaViQ9eUZXn"
      }
    },
    {
      "cell_type": "markdown",
      "source": [
        "- Now what we are trying to do here is simply create a class which will iterate over our entire dataset and store it an array of objects, so basically we are simplifying how we store our data so that we can better retrieve information."
      ],
      "metadata": {
        "id": "5rAx8XKpZexK"
      }
    },
    {
      "cell_type": "code",
      "source": [
        "import json\n",
        "class Sentiment:\n",
        "  NEGATIVE = \"NEGATIVE\"\n",
        "  POSITIVE = \"POSITIVE\"\n",
        "\n",
        "class Review:\n",
        "  def __init__(self, text, score):\n",
        "    self.text = text;\n",
        "    self.score = score;\n",
        "    self.sentiment = self.getSentiment();\n",
        "\n",
        "  def getSentiment(self):\n",
        "    if self.score <= 2:\n",
        "      return Sentiment.NEGATIVE;\n",
        "    else:\n",
        "      return Sentiment.POSITIVE;\n",
        "\n",
        "reviews = []\n",
        "with open(data) as f:\n",
        "    for line in f:\n",
        "        review = json.loads(line)\n",
        "        reviews.append(Review(review['reviewText'], review['overall']))"
      ],
      "metadata": {
        "id": "DiOvifkNV7_X"
      },
      "execution_count": null,
      "outputs": []
    },
    {
      "cell_type": "code",
      "source": [
        "print(reviews[9999].text)\n",
        "print(reviews[9999].score)\n",
        "print(reviews[9999].sentiment)"
      ],
      "metadata": {
        "colab": {
          "base_uri": "https://localhost:8080/"
        },
        "id": "pRZ2D0NzjyjJ",
        "outputId": "6a52da79-36b3-4a7a-e963-58f9006850e3"
      },
      "execution_count": null,
      "outputs": [
        {
          "output_type": "stream",
          "name": "stdout",
          "text": [
            "Highly recommend this entire trilogy. It is very well written and held me in suspense and kept me reading.  Even with the same old young girl heroine who goes head strong and hell bent on saving the new world, id tecommend this book to dystopian fiction fans!  Not overdone, thankfully! A fesw situations made it feel like I've read this same plot before....but these were well thought out and much better written!  This authr has a gift a d I will be looking forward to reading more of ber work.\n",
            "4.0\n",
            "POSITIVE\n"
          ]
        }
      ]
    },
    {
      "cell_type": "markdown",
      "source": [
        "# Now let's display what our new dataset, an array is looking like"
      ],
      "metadata": {
        "id": "MFiWvQ0aSVT8"
      }
    },
    {
      "cell_type": "code",
      "source": [
        "# Assuming 'reviews' is your list of Review objects\n",
        "review_data = [(review.text, review.score, review.sentiment) for review in reviews]\n",
        "\n",
        "# Creating a DataFrame from the review data\n",
        "df_reviews = pd.DataFrame(review_data, columns=['Review Text', 'Score', 'Sentiment'])\n",
        "\n",
        "# Displaying the DataFrame\n",
        "print(df_reviews)"
      ],
      "metadata": {
        "colab": {
          "base_uri": "https://localhost:8080/"
        },
        "id": "VBsxLrBZXXYM",
        "outputId": "44500a68-0f77-4965-b941-b72dbfd0fac8"
      },
      "execution_count": null,
      "outputs": [
        {
          "output_type": "stream",
          "name": "stdout",
          "text": [
            "                                            Review Text  Score Sentiment\n",
            "0     I bought both boxed sets, books 1-5.  Really a...    5.0  POSITIVE\n",
            "1     I enjoyed this short book. But it was way way ...    3.0  POSITIVE\n",
            "2     I love Nicholas Sparks. I&#8217;ve read everyt...    4.0  POSITIVE\n",
            "3     I really enjoyed this adventure and look forwa...    4.0  POSITIVE\n",
            "4     It was a decent read.. typical story line. Not...    3.0  POSITIVE\n",
            "...                                                 ...    ...       ...\n",
            "9995  The whole series was great!  Melody is a fanta...    5.0  POSITIVE\n",
            "9996  I didn't thing that much of this book.  I am a...    3.0  POSITIVE\n",
            "9997  It is an emotional TRIP to the past with Trip ...    5.0  POSITIVE\n",
            "9998  This definitely got under my veins whereby I h...    5.0  POSITIVE\n",
            "9999  Highly recommend this entire trilogy. It is ve...    4.0  POSITIVE\n",
            "\n",
            "[10000 rows x 3 columns]\n"
          ]
        }
      ]
    },
    {
      "cell_type": "markdown",
      "source": [
        "- Now our dataset is prepared to use, lets visualize the number of positive and negative datasets."
      ],
      "metadata": {
        "id": "9xbLy9uXchiV"
      }
    },
    {
      "cell_type": "code",
      "source": [
        "import matplotlib.pyplot as plt\n",
        "# Count the number of positive and negative reviews\n",
        "positive_count = sum(1 for review in reviews if review.sentiment == Sentiment.POSITIVE)\n",
        "negative_count = sum(1 for review in reviews if review.sentiment == Sentiment.NEGATIVE)\n",
        "\n",
        "# Plot the bar chart\n",
        "labels = ['Positive', 'Negative']\n",
        "counts = [positive_count, negative_count]\n",
        "\n",
        "plt.bar(labels, counts, color=['green', 'red'])\n",
        "plt.xlabel('Sentiment')\n",
        "plt.ylabel('Number of Reviews')\n",
        "plt.title('Number of Positive and Negative Reviews')\n",
        "plt.show()"
      ],
      "metadata": {
        "colab": {
          "base_uri": "https://localhost:8080/",
          "height": 472
        },
        "id": "Xx8TM0znYdtN",
        "outputId": "fa9a4976-ad1f-4f8d-a756-45ce5d8d84aa"
      },
      "execution_count": null,
      "outputs": [
        {
          "output_type": "display_data",
          "data": {
            "text/plain": [
              "<Figure size 640x480 with 1 Axes>"
            ],
            "image/png": "[encoded data removed]"
          },
          "metadata": {}
        }
      ]
    },
    {
      "cell_type": "markdown",
      "source": [
        "- Now let's create a function that can easily allow us to manipulate this reviews[] array. This function is going to perform three main functions:\n",
        "1. Provide us the reviews from our array\n",
        "2. Provde us the score from our array\n",
        "3. And evenly distribute the number of positive and negative reviews in our dataset."
      ],
      "metadata": {
        "id": "XCzInGTjh1R_"
      }
    },
    {
      "cell_type": "code",
      "source": [
        "class ReviewContainer():\n",
        "  def __init__(self, reviews):\n",
        "    self.reviews = reviews;\n",
        "\n",
        "  def get_text(self):\n",
        "    return [x.text for x in self.reviews]\n",
        "\n",
        "  def get_sentiment(self):\n",
        "    return [x.sentiment for x in self.reviews]\n",
        "\n",
        "  def evenly_distribute(self):\n",
        "    negative = list(filter(lambda x: x.sentiment == Sentiment.NEGATIVE, self.reviews))\n",
        "    positive = list(filter(lambda x: x.sentiment == Sentiment.POSITIVE, self.reviews))\n",
        "    positive_shrunk = positive[:len(negative)]\n",
        "    self.reviews = negative + positive_shrunk\n",
        "    random.shuffle(self.reviews)"
      ],
      "metadata": {
        "id": "uj3RK95ch6kB"
      },
      "execution_count": null,
      "outputs": []
    },
    {
      "cell_type": "markdown",
      "source": [
        "# Question\n",
        "- Explain why having this uneveness in data is a problem"
      ],
      "metadata": {
        "id": "kTvMTKj4jNO6"
      }
    },
    {
      "cell_type": "markdown",
      "source": [
        "# Let's prepare our data"
      ],
      "metadata": {
        "id": "uoin5YdYdg7K"
      }
    },
    {
      "cell_type": "markdown",
      "source": [
        "# Question\n",
        "- How does a model actually work, we give it x and we give it y and it developes the function F, so let's split data into x and y.\n",
        "\n",
        "- What is train test split\n",
        "\n",
        "- What is train_x, train_y"
      ],
      "metadata": {
        "id": "VM90VTKlZgkp"
      }
    },
    {
      "cell_type": "code",
      "source": [
        "from sklearn.model_selection import train_test_split\n",
        "\n",
        "train, test = train_test_split(reviews, test_size = 0.25, random_state = 42)\n",
        "\n",
        "train = ReviewContainer(train)\n",
        "test = ReviewContainer(test)\n",
        "\n",
        "# let's fix the problem by running the evenly distribute function\n",
        "\n",
        "#  def evenly_distribute(self):\n",
        "#     negative = list(filter(lambda x: x.sentiment == Sentiment.NEGATIVE, self.reviews))\n",
        "#     positive = list(filter(lambda x: x.sentiment == Sentiment.POSITIVE, self.reviews))\n",
        "#     positive_shrunk = positive[:len(negative)]\n",
        "#     self.reviews = negative + positive_shrunk\n",
        "#     random.shuffle(self.reviews)\n",
        "\n",
        "train.evenly_distribute()\n",
        "test.evenly_distribute()\n",
        "\n",
        "train_x = train.get_text()\n",
        "train_y = train.get_sentiment()\n",
        "\n",
        "\n",
        "test_x = test.get_text()\n",
        "test_y = test.get_sentiment()\n",
        "\n",
        "print(train_y.count(Sentiment.POSITIVE))\n",
        "print(test_y.count(Sentiment.NEGATIVE))"
      ],
      "metadata": {
        "colab": {
          "base_uri": "https://localhost:8080/"
        },
        "id": "wUekyRuWcmgc",
        "outputId": "cb4a4102-0cb0-46e7-c323-53c44ca19305"
      },
      "execution_count": null,
      "outputs": [
        {
          "output_type": "stream",
          "name": "stdout",
          "text": [
            "486\n",
            "158\n"
          ]
        }
      ]
    },
    {
      "cell_type": "markdown",
      "source": [
        "- Let's visualize the number of positive and negative sentiments now:"
      ],
      "metadata": {
        "id": "zBe51HCVkpaI"
      }
    },
    {
      "cell_type": "code",
      "source": [
        "# Display the distribution of sentiments in training data\n",
        "train_sentiments = train_container.get_sentiment()\n",
        "train_sentiment_counts = [train_sentiments.count(Sentiment.POSITIVE), train_sentiments.count(Sentiment.NEGATIVE)]\n",
        "\n",
        "plt.bar(['Positive', 'Negative'], train_sentiment_counts, color=['green', 'red'])\n",
        "plt.xlabel('Sentiment')\n",
        "plt.ylabel('Number of Reviews')\n",
        "plt.title('Distribution of Sentiments in Training Data')\n",
        "plt.show()\n",
        "\n",
        "# Display the distribution of sentiments in testing data\n",
        "test_sentiments = test_container.get_sentiment()\n",
        "test_sentiment_counts = [test_sentiments.count(Sentiment.POSITIVE), test_sentiments.count(Sentiment.NEGATIVE)]\n",
        "\n",
        "plt.bar(['Positive', 'Negative'], test_sentiment_counts, color=['green', 'red'])\n",
        "plt.xlabel('Sentiment')\n",
        "plt.ylabel('Number of Reviews')\n",
        "plt.title('Distribution of Sentiments in Testing Data')\n",
        "plt.show()"
      ],
      "metadata": {
        "colab": {
          "base_uri": "https://localhost:8080/",
          "height": 927
        },
        "id": "fTGSIycekT4K",
        "outputId": "e6d7e696-da5b-4b3d-a8a8-be9d8e845aaf"
      },
      "execution_count": null,
      "outputs": [
        {
          "output_type": "display_data",
          "data": {
            "text/plain": [
              "<Figure size 640x480 with 1 Axes>"
            ],
            "image/png": "[encoded data removed]"
          },
          "metadata": {}
        },
        {
          "output_type": "display_data",
          "data": {
            "text/plain": [
              "<Figure size 640x480 with 1 Axes>"
            ],
            "image/png": "[encoded data removed]"
          },
          "metadata": {}
        }
      ]
    },
    {
      "cell_type": "markdown",
      "source": [
        "# There is one last thing we need to do to our data before we start creating our Model\n",
        "- That is convert our text data to numerical input so that our machine can learn from it."
      ],
      "metadata": {
        "id": "uzyBaL47k6XH"
      }
    },
    {
      "cell_type": "markdown",
      "source": [
        "### Bag of Words Vectorizer\n",
        "- A problem with modeling text is that it is messy, and techniques like machine learning algorithms prefer well defined fixed-length inputs and outputs.\n",
        "-Machine learning algorithms cannot work with raw text directly; the text must be converted into numbers. Specifically, vectors of numbers.\n",
        "1. Tokenization : breaking down the text into words\n",
        "2. Vocabulary Creation : A unique set of all the words in the dataset is created, called as the vocabulary\n",
        "3. Counting word occurences : How many times each word appears in the document\n",
        "https://www.analyticsvidhya.com/blog/2021/08/a-friendly-guide-to-nlp-bag-of-words-with-python-example/"
      ],
      "metadata": {
        "id": "wELZvdfmx27o"
      }
    },
    {
      "cell_type": "code",
      "source": [
        "from sklearn.feature_extraction.text import CountVectorizer, TfidfVectorizer\n",
        "\n",
        "vectorizer = TfidfVectorizer()\n",
        "\n",
        "#  It learns the mapping between words in the documents and the corresponding feature indices.\n",
        "train_x_vectors = vectorizer.fit_transform(train_x)\n",
        "\n",
        "# We won't fit the vectorizer again because we want to use the training dataset vocabulary for the testing data as well\n",
        "test_x_vectors = vectorizer.transform(test_x)\n",
        "\n",
        "# let's have a look at what our data is looking like now\n",
        "print(train_x[0])\n",
        "print(train_x_vectors[0].toarray())"
      ],
      "metadata": {
        "colab": {
          "base_uri": "https://localhost:8080/"
        },
        "id": "ZHFv1WlTks24",
        "outputId": "b2231689-3b70-4cd1-c81f-85a86077004c"
      },
      "execution_count": null,
      "outputs": [
        {
          "output_type": "stream",
          "name": "stdout",
          "text": [
            "I don't think a whole lot of Beth Moore books. I find them uninspiring and rather boring. Total waste of hard earned money!\n",
            "[[0. 0. 0. ... 0. 0. 0.]]\n"
          ]
        }
      ]
    },
    {
      "cell_type": "markdown",
      "source": [
        "# Now let's start building our models\n",
        "### There are mainly two types of models : Classification and Regression\n",
        "- The model that we are going to be building are called as classification models because the problem that we are trying to solve is classify reviews into positive and negative sentiments."
      ],
      "metadata": {
        "id": "EzI1K2tnycgG"
      }
    },
    {
      "cell_type": "markdown",
      "source": [
        "- We are going to build four different classifier models and then choose the best one out of the four and further improve it."
      ],
      "metadata": {
        "id": "FGJo32MAyqIg"
      }
    },
    {
      "cell_type": "markdown",
      "source": [
        "### Linear SVM\n",
        "1. Imagine a playground:\n",
        "- Think of a playground where you have two groups of kids playing, and there's a clear gap between them.\n",
        "2. Goal:\n",
        "- Now, you want to draw a line on the ground to separate these two groups so that each group stays on its side. This line is your decision boundary.\n",
        "3. SVM's Role:\n",
        "- The support vector machine (SVM) is like the friend you bring along who helps you draw the best possible line, making sure it maximizes the space between the two groups\n",
        "4. Machine learning analogy:\n",
        "- These two groups represent different classes or categories. The SVM helps find the best possible line to separate these classes"
      ],
      "metadata": {
        "id": "qkXNLPo9yyRo"
      }
    },
    {
      "cell_type": "code",
      "source": [
        "from sklearn import svm\n",
        "from sklearn.svm import SVC\n",
        "\n",
        "# Lets first initialize and fit our model to the training data\n",
        "clf_svm = svm.SVC(kernel = \"linear\")\n",
        "clf_svm.fit(train_x_vectors, train_y)"
      ],
      "metadata": {
        "colab": {
          "base_uri": "https://localhost:8080/",
          "height": 75
        },
        "id": "Q5Z5yeKpyPkF",
        "outputId": "bcc992bd-dac5-4648-e616-d6b88995477c"
      },
      "execution_count": null,
      "outputs": [
        {
          "output_type": "execute_result",
          "data": {
            "text/plain": [
              "SVC(kernel='linear')"
            ],
            "text/html": [
              "<style>#sk-container-id-17 {color: black;background-color: white;}#sk-container-id-17 pre{padding: 0;}#sk-container-id-17 div.sk-toggleable {background-color: white;}#sk-container-id-17 label.sk-toggleable__label {cursor: pointer;display: block;width: 100%;margin-bottom: 0;padding: 0.3em;box-sizing: border-box;text-align: center;}#sk-container-id-17 label.sk-toggleable__label-arrow:before {content: \"▸\";float: left;margin-right: 0.25em;color: #696969;}#sk-container-id-17 label.sk-toggleable__label-arrow:hover:before {color: black;}#sk-container-id-17 div.sk-estimator:hover label.sk-toggleable__label-arrow:before {color: black;}#sk-container-id-17 div.sk-toggleable__content {max-height: 0;max-width: 0;overflow: hidden;text-align: left;background-color: #f0f8ff;}#sk-container-id-17 div.sk-toggleable__content pre {margin: 0.2em;color: black;border-radius: 0.25em;background-color: #f0f8ff;}#sk-container-id-17 input.sk-toggleable__control:checked~div.sk-toggleable__content {max-height: 200px;max-width: 100%;overflow: auto;}#sk-container-id-17 input.sk-toggleable__control:checked~label.sk-toggleable__label-arrow:before {content: \"▾\";}#sk-container-id-17 div.sk-estimator input.sk-toggleable__control:checked~label.sk-toggleable__label {background-color: #d4ebff;}#sk-container-id-17 div.sk-label input.sk-toggleable__control:checked~label.sk-toggleable__label {background-color: #d4ebff;}#sk-container-id-17 input.sk-hidden--visually {border: 0;clip: rect(1px 1px 1px 1px);clip: rect(1px, 1px, 1px, 1px);height: 1px;margin: -1px;overflow: hidden;padding: 0;position: absolute;width: 1px;}#sk-container-id-17 div.sk-estimator {font-family: monospace;background-color: #f0f8ff;border: 1px dotted black;border-radius: 0.25em;box-sizing: border-box;margin-bottom: 0.5em;}#sk-container-id-17 div.sk-estimator:hover {background-color: #d4ebff;}#sk-container-id-17 div.sk-parallel-item::after {content: \"\";width: 100%;border-bottom: 1px solid gray;flex-grow: 1;}#sk-container-id-17 div.sk-label:hover label.sk-toggleable__label {background-color: #d4ebff;}#sk-container-id-17 div.sk-serial::before {content: \"\";position: absolute;border-left: 1px solid gray;box-sizing: border-box;top: 0;bottom: 0;left: 50%;z-index: 0;}#sk-container-id-17 div.sk-serial {display: flex;flex-direction: column;align-items: center;background-color: white;padding-right: 0.2em;padding-left: 0.2em;position: relative;}#sk-container-id-17 div.sk-item {position: relative;z-index: 1;}#sk-container-id-17 div.sk-parallel {display: flex;align-items: stretch;justify-content: center;background-color: white;position: relative;}#sk-container-id-17 div.sk-item::before, #sk-container-id-17 div.sk-parallel-item::before {content: \"\";position: absolute;border-left: 1px solid gray;box-sizing: border-box;top: 0;bottom: 0;left: 50%;z-index: -1;}#sk-container-id-17 div.sk-parallel-item {display: flex;flex-direction: column;z-index: 1;position: relative;background-color: white;}#sk-container-id-17 div.sk-parallel-item:first-child::after {align-self: flex-end;width: 50%;}#sk-container-id-17 div.sk-parallel-item:last-child::after {align-self: flex-start;width: 50%;}#sk-container-id-17 div.sk-parallel-item:only-child::after {width: 0;}#sk-container-id-17 div.sk-dashed-wrapped {border: 1px dashed gray;margin: 0 0.4em 0.5em 0.4em;box-sizing: border-box;padding-bottom: 0.4em;background-color: white;}#sk-container-id-17 div.sk-label label {font-family: monospace;font-weight: bold;display: inline-block;line-height: 1.2em;}#sk-container-id-17 div.sk-label-container {text-align: center;}#sk-container-id-17 div.sk-container {/* jupyter's `normalize.less` sets `[hidden] { display: none; }` but bootstrap.min.css set `[hidden] { display: none !important; }` so we also need the `!important` here to be able to override the default hidden behavior on the sphinx rendered scikit-learn.org. See: https://github.com/scikit-learn/scikit-learn/issues/21755 */display: inline-block !important;position: relative;}#sk-container-id-17 div.sk-text-repr-fallback {display: none;}</style><div id=\"sk-container-id-17\" class=\"sk-top-container\"><div class=\"sk-text-repr-fallback\"><pre>SVC(kernel=&#x27;linear&#x27;)</pre><b>In a Jupyter environment, please rerun this cell to show the HTML representation or trust the notebook. <br />On GitHub, the HTML representation is unable to render, please try loading this page with nbviewer.org.</b></div><div class=\"sk-container\" hidden><div class=\"sk-item\"><div class=\"sk-estimator sk-toggleable\"><input class=\"sk-toggleable__control sk-hidden--visually\" id=\"sk-estimator-id-17\" type=\"checkbox\" checked><label for=\"sk-estimator-id-17\" class=\"sk-toggleable__label sk-toggleable__label-arrow\">SVC</label><div class=\"sk-toggleable__content\"><pre>SVC(kernel=&#x27;linear&#x27;)</pre></div></div></div></div></div>"
            ]
          },
          "metadata": {},
          "execution_count": 111
        }
      ]
    },
    {
      "cell_type": "markdown",
      "source": [
        "### Decision Tree\n",
        "- Imagine you have an animal in mind and someone is trying to guess what is that animal is in your mind.\n",
        "- The decision tree starts with a broad question like, \"Does it live in water?\" If the answer is yes, it might ask, \"Is it a fish?\" If the answer is no, it might as, \"Does it have fur?\" The questions keep getting more specific until the person accurately guesses the animal\n",
        "- In machine learning tree, in a decision tree, each questions corresponds to a feature about the data. The features guide the tree to make decision and classify data into different categories"
      ],
      "metadata": {
        "id": "o00P1xy-zDU5"
      }
    },
    {
      "cell_type": "code",
      "source": [
        "from sklearn.tree import DecisionTreeClassifier\n",
        "\n",
        "# Lets initializa and fir out model to the training data\n",
        "clf_dec = DecisionTreeClassifier()\n",
        "clf_dec.fit(train_x_vectors, train_y)"
      ],
      "metadata": {
        "colab": {
          "base_uri": "https://localhost:8080/",
          "height": 75
        },
        "id": "3Uq0l2f8zBhT",
        "outputId": "72d31c08-c897-46e2-93e6-70ec2ed83965"
      },
      "execution_count": null,
      "outputs": [
        {
          "output_type": "execute_result",
          "data": {
            "text/plain": [
              "DecisionTreeClassifier()"
            ],
            "text/html": [
              "<style>#sk-container-id-18 {color: black;background-color: white;}#sk-container-id-18 pre{padding: 0;}#sk-container-id-18 div.sk-toggleable {background-color: white;}#sk-container-id-18 label.sk-toggleable__label {cursor: pointer;display: block;width: 100%;margin-bottom: 0;padding: 0.3em;box-sizing: border-box;text-align: center;}#sk-container-id-18 label.sk-toggleable__label-arrow:before {content: \"▸\";float: left;margin-right: 0.25em;color: #696969;}#sk-container-id-18 label.sk-toggleable__label-arrow:hover:before {color: black;}#sk-container-id-18 div.sk-estimator:hover label.sk-toggleable__label-arrow:before {color: black;}#sk-container-id-18 div.sk-toggleable__content {max-height: 0;max-width: 0;overflow: hidden;text-align: left;background-color: #f0f8ff;}#sk-container-id-18 div.sk-toggleable__content pre {margin: 0.2em;color: black;border-radius: 0.25em;background-color: #f0f8ff;}#sk-container-id-18 input.sk-toggleable__control:checked~div.sk-toggleable__content {max-height: 200px;max-width: 100%;overflow: auto;}#sk-container-id-18 input.sk-toggleable__control:checked~label.sk-toggleable__label-arrow:before {content: \"▾\";}#sk-container-id-18 div.sk-estimator input.sk-toggleable__control:checked~label.sk-toggleable__label {background-color: #d4ebff;}#sk-container-id-18 div.sk-label input.sk-toggleable__control:checked~label.sk-toggleable__label {background-color: #d4ebff;}#sk-container-id-18 input.sk-hidden--visually {border: 0;clip: rect(1px 1px 1px 1px);clip: rect(1px, 1px, 1px, 1px);height: 1px;margin: -1px;overflow: hidden;padding: 0;position: absolute;width: 1px;}#sk-container-id-18 div.sk-estimator {font-family: monospace;background-color: #f0f8ff;border: 1px dotted black;border-radius: 0.25em;box-sizing: border-box;margin-bottom: 0.5em;}#sk-container-id-18 div.sk-estimator:hover {background-color: #d4ebff;}#sk-container-id-18 div.sk-parallel-item::after {content: \"\";width: 100%;border-bottom: 1px solid gray;flex-grow: 1;}#sk-container-id-18 div.sk-label:hover label.sk-toggleable__label {background-color: #d4ebff;}#sk-container-id-18 div.sk-serial::before {content: \"\";position: absolute;border-left: 1px solid gray;box-sizing: border-box;top: 0;bottom: 0;left: 50%;z-index: 0;}#sk-container-id-18 div.sk-serial {display: flex;flex-direction: column;align-items: center;background-color: white;padding-right: 0.2em;padding-left: 0.2em;position: relative;}#sk-container-id-18 div.sk-item {position: relative;z-index: 1;}#sk-container-id-18 div.sk-parallel {display: flex;align-items: stretch;justify-content: center;background-color: white;position: relative;}#sk-container-id-18 div.sk-item::before, #sk-container-id-18 div.sk-parallel-item::before {content: \"\";position: absolute;border-left: 1px solid gray;box-sizing: border-box;top: 0;bottom: 0;left: 50%;z-index: -1;}#sk-container-id-18 div.sk-parallel-item {display: flex;flex-direction: column;z-index: 1;position: relative;background-color: white;}#sk-container-id-18 div.sk-parallel-item:first-child::after {align-self: flex-end;width: 50%;}#sk-container-id-18 div.sk-parallel-item:last-child::after {align-self: flex-start;width: 50%;}#sk-container-id-18 div.sk-parallel-item:only-child::after {width: 0;}#sk-container-id-18 div.sk-dashed-wrapped {border: 1px dashed gray;margin: 0 0.4em 0.5em 0.4em;box-sizing: border-box;padding-bottom: 0.4em;background-color: white;}#sk-container-id-18 div.sk-label label {font-family: monospace;font-weight: bold;display: inline-block;line-height: 1.2em;}#sk-container-id-18 div.sk-label-container {text-align: center;}#sk-container-id-18 div.sk-container {/* jupyter's `normalize.less` sets `[hidden] { display: none; }` but bootstrap.min.css set `[hidden] { display: none !important; }` so we also need the `!important` here to be able to override the default hidden behavior on the sphinx rendered scikit-learn.org. See: https://github.com/scikit-learn/scikit-learn/issues/21755 */display: inline-block !important;position: relative;}#sk-container-id-18 div.sk-text-repr-fallback {display: none;}</style><div id=\"sk-container-id-18\" class=\"sk-top-container\"><div class=\"sk-text-repr-fallback\"><pre>DecisionTreeClassifier()</pre><b>In a Jupyter environment, please rerun this cell to show the HTML representation or trust the notebook. <br />On GitHub, the HTML representation is unable to render, please try loading this page with nbviewer.org.</b></div><div class=\"sk-container\" hidden><div class=\"sk-item\"><div class=\"sk-estimator sk-toggleable\"><input class=\"sk-toggleable__control sk-hidden--visually\" id=\"sk-estimator-id-18\" type=\"checkbox\" checked><label for=\"sk-estimator-id-18\" class=\"sk-toggleable__label sk-toggleable__label-arrow\">DecisionTreeClassifier</label><div class=\"sk-toggleable__content\"><pre>DecisionTreeClassifier()</pre></div></div></div></div></div>"
            ]
          },
          "metadata": {},
          "execution_count": 112
        }
      ]
    },
    {
      "cell_type": "markdown",
      "source": [
        "### Naive Bayes\n",
        "- This type of classifier starts with some predefined assumption in mind, like the precense of some words might make it bad or good.\n",
        "- Imagine you have an email and you want to classify it as good or bad.\n",
        "- The Naive Bayes classifier starts with the assumption that the presence of certain words in an email is indicative of it being spam or not. For example, if the word \"discount\" is present, it might increase the likelihood of the email being spam.\n",
        "\n",
        "### Explain what is dense data and what is sparse data"
      ],
      "metadata": {
        "id": "kKMuC3JpzXmq"
      }
    },
    {
      "cell_type": "code",
      "source": [
        "from sklearn.naive_bayes import GaussianNB\n",
        "\n",
        "# Lets initialize\n",
        "clf_gnb = GaussianNB()\n",
        "\n",
        "# We need to convert our sparse matrix to a dense numpy array in order for our model to learn from it\n",
        "dense_train_x = train_x_vectors.toarray()\n",
        "dense_test_x = test_x_vectors.toarray()\n",
        "\n",
        "# Now let's actually train our model\n",
        "clf_gnb.fit(dense_train_x, train_y)"
      ],
      "metadata": {
        "colab": {
          "base_uri": "https://localhost:8080/",
          "height": 75
        },
        "id": "MRl82RqnzOjI",
        "outputId": "257c6399-d56b-47ec-8a78-b63112b6dbe5"
      },
      "execution_count": null,
      "outputs": [
        {
          "output_type": "execute_result",
          "data": {
            "text/plain": [
              "GaussianNB()"
            ],
            "text/html": [
              "<style>#sk-container-id-19 {color: black;background-color: white;}#sk-container-id-19 pre{padding: 0;}#sk-container-id-19 div.sk-toggleable {background-color: white;}#sk-container-id-19 label.sk-toggleable__label {cursor: pointer;display: block;width: 100%;margin-bottom: 0;padding: 0.3em;box-sizing: border-box;text-align: center;}#sk-container-id-19 label.sk-toggleable__label-arrow:before {content: \"▸\";float: left;margin-right: 0.25em;color: #696969;}#sk-container-id-19 label.sk-toggleable__label-arrow:hover:before {color: black;}#sk-container-id-19 div.sk-estimator:hover label.sk-toggleable__label-arrow:before {color: black;}#sk-container-id-19 div.sk-toggleable__content {max-height: 0;max-width: 0;overflow: hidden;text-align: left;background-color: #f0f8ff;}#sk-container-id-19 div.sk-toggleable__content pre {margin: 0.2em;color: black;border-radius: 0.25em;background-color: #f0f8ff;}#sk-container-id-19 input.sk-toggleable__control:checked~div.sk-toggleable__content {max-height: 200px;max-width: 100%;overflow: auto;}#sk-container-id-19 input.sk-toggleable__control:checked~label.sk-toggleable__label-arrow:before {content: \"▾\";}#sk-container-id-19 div.sk-estimator input.sk-toggleable__control:checked~label.sk-toggleable__label {background-color: #d4ebff;}#sk-container-id-19 div.sk-label input.sk-toggleable__control:checked~label.sk-toggleable__label {background-color: #d4ebff;}#sk-container-id-19 input.sk-hidden--visually {border: 0;clip: rect(1px 1px 1px 1px);clip: rect(1px, 1px, 1px, 1px);height: 1px;margin: -1px;overflow: hidden;padding: 0;position: absolute;width: 1px;}#sk-container-id-19 div.sk-estimator {font-family: monospace;background-color: #f0f8ff;border: 1px dotted black;border-radius: 0.25em;box-sizing: border-box;margin-bottom: 0.5em;}#sk-container-id-19 div.sk-estimator:hover {background-color: #d4ebff;}#sk-container-id-19 div.sk-parallel-item::after {content: \"\";width: 100%;border-bottom: 1px solid gray;flex-grow: 1;}#sk-container-id-19 div.sk-label:hover label.sk-toggleable__label {background-color: #d4ebff;}#sk-container-id-19 div.sk-serial::before {content: \"\";position: absolute;border-left: 1px solid gray;box-sizing: border-box;top: 0;bottom: 0;left: 50%;z-index: 0;}#sk-container-id-19 div.sk-serial {display: flex;flex-direction: column;align-items: center;background-color: white;padding-right: 0.2em;padding-left: 0.2em;position: relative;}#sk-container-id-19 div.sk-item {position: relative;z-index: 1;}#sk-container-id-19 div.sk-parallel {display: flex;align-items: stretch;justify-content: center;background-color: white;position: relative;}#sk-container-id-19 div.sk-item::before, #sk-container-id-19 div.sk-parallel-item::before {content: \"\";position: absolute;border-left: 1px solid gray;box-sizing: border-box;top: 0;bottom: 0;left: 50%;z-index: -1;}#sk-container-id-19 div.sk-parallel-item {display: flex;flex-direction: column;z-index: 1;position: relative;background-color: white;}#sk-container-id-19 div.sk-parallel-item:first-child::after {align-self: flex-end;width: 50%;}#sk-container-id-19 div.sk-parallel-item:last-child::after {align-self: flex-start;width: 50%;}#sk-container-id-19 div.sk-parallel-item:only-child::after {width: 0;}#sk-container-id-19 div.sk-dashed-wrapped {border: 1px dashed gray;margin: 0 0.4em 0.5em 0.4em;box-sizing: border-box;padding-bottom: 0.4em;background-color: white;}#sk-container-id-19 div.sk-label label {font-family: monospace;font-weight: bold;display: inline-block;line-height: 1.2em;}#sk-container-id-19 div.sk-label-container {text-align: center;}#sk-container-id-19 div.sk-container {/* jupyter's `normalize.less` sets `[hidden] { display: none; }` but bootstrap.min.css set `[hidden] { display: none !important; }` so we also need the `!important` here to be able to override the default hidden behavior on the sphinx rendered scikit-learn.org. See: https://github.com/scikit-learn/scikit-learn/issues/21755 */display: inline-block !important;position: relative;}#sk-container-id-19 div.sk-text-repr-fallback {display: none;}</style><div id=\"sk-container-id-19\" class=\"sk-top-container\"><div class=\"sk-text-repr-fallback\"><pre>GaussianNB()</pre><b>In a Jupyter environment, please rerun this cell to show the HTML representation or trust the notebook. <br />On GitHub, the HTML representation is unable to render, please try loading this page with nbviewer.org.</b></div><div class=\"sk-container\" hidden><div class=\"sk-item\"><div class=\"sk-estimator sk-toggleable\"><input class=\"sk-toggleable__control sk-hidden--visually\" id=\"sk-estimator-id-19\" type=\"checkbox\" checked><label for=\"sk-estimator-id-19\" class=\"sk-toggleable__label sk-toggleable__label-arrow\">GaussianNB</label><div class=\"sk-toggleable__content\"><pre>GaussianNB()</pre></div></div></div></div></div>"
            ]
          },
          "metadata": {},
          "execution_count": 113
        }
      ]
    },
    {
      "cell_type": "markdown",
      "source": [
        "### Logistic Regression\n",
        "- Even though the name is regression it is actually a classification model\n",
        "- But the process it uses for classification is based on making prediction\n",
        "- Based on the words present in a review it makes a prediction whether it should be positive or not, if the prediction is above a certain number it is positive else negative"
      ],
      "metadata": {
        "id": "AdCCA6fG0yKy"
      }
    },
    {
      "cell_type": "code",
      "source": [
        "from sklearn.linear_model import LogisticRegression\n",
        "\n",
        "# Lets initialize and fit our model to the training data\n",
        "clf_log = LogisticRegression()\n",
        "clf_log.fit(train_x_vectors, train_y)"
      ],
      "metadata": {
        "colab": {
          "base_uri": "https://localhost:8080/",
          "height": 75
        },
        "id": "iU9Ctv3L0voD",
        "outputId": "bb4d69d2-70d6-4d94-ba8c-2b38020215c1"
      },
      "execution_count": null,
      "outputs": [
        {
          "output_type": "execute_result",
          "data": {
            "text/plain": [
              "LogisticRegression()"
            ],
            "text/html": [
              "<style>#sk-container-id-20 {color: black;background-color: white;}#sk-container-id-20 pre{padding: 0;}#sk-container-id-20 div.sk-toggleable {background-color: white;}#sk-container-id-20 label.sk-toggleable__label {cursor: pointer;display: block;width: 100%;margin-bottom: 0;padding: 0.3em;box-sizing: border-box;text-align: center;}#sk-container-id-20 label.sk-toggleable__label-arrow:before {content: \"▸\";float: left;margin-right: 0.25em;color: #696969;}#sk-container-id-20 label.sk-toggleable__label-arrow:hover:before {color: black;}#sk-container-id-20 div.sk-estimator:hover label.sk-toggleable__label-arrow:before {color: black;}#sk-container-id-20 div.sk-toggleable__content {max-height: 0;max-width: 0;overflow: hidden;text-align: left;background-color: #f0f8ff;}#sk-container-id-20 div.sk-toggleable__content pre {margin: 0.2em;color: black;border-radius: 0.25em;background-color: #f0f8ff;}#sk-container-id-20 input.sk-toggleable__control:checked~div.sk-toggleable__content {max-height: 200px;max-width: 100%;overflow: auto;}#sk-container-id-20 input.sk-toggleable__control:checked~label.sk-toggleable__label-arrow:before {content: \"▾\";}#sk-container-id-20 div.sk-estimator input.sk-toggleable__control:checked~label.sk-toggleable__label {background-color: #d4ebff;}#sk-container-id-20 div.sk-label input.sk-toggleable__control:checked~label.sk-toggleable__label {background-color: #d4ebff;}#sk-container-id-20 input.sk-hidden--visually {border: 0;clip: rect(1px 1px 1px 1px);clip: rect(1px, 1px, 1px, 1px);height: 1px;margin: -1px;overflow: hidden;padding: 0;position: absolute;width: 1px;}#sk-container-id-20 div.sk-estimator {font-family: monospace;background-color: #f0f8ff;border: 1px dotted black;border-radius: 0.25em;box-sizing: border-box;margin-bottom: 0.5em;}#sk-container-id-20 div.sk-estimator:hover {background-color: #d4ebff;}#sk-container-id-20 div.sk-parallel-item::after {content: \"\";width: 100%;border-bottom: 1px solid gray;flex-grow: 1;}#sk-container-id-20 div.sk-label:hover label.sk-toggleable__label {background-color: #d4ebff;}#sk-container-id-20 div.sk-serial::before {content: \"\";position: absolute;border-left: 1px solid gray;box-sizing: border-box;top: 0;bottom: 0;left: 50%;z-index: 0;}#sk-container-id-20 div.sk-serial {display: flex;flex-direction: column;align-items: center;background-color: white;padding-right: 0.2em;padding-left: 0.2em;position: relative;}#sk-container-id-20 div.sk-item {position: relative;z-index: 1;}#sk-container-id-20 div.sk-parallel {display: flex;align-items: stretch;justify-content: center;background-color: white;position: relative;}#sk-container-id-20 div.sk-item::before, #sk-container-id-20 div.sk-parallel-item::before {content: \"\";position: absolute;border-left: 1px solid gray;box-sizing: border-box;top: 0;bottom: 0;left: 50%;z-index: -1;}#sk-container-id-20 div.sk-parallel-item {display: flex;flex-direction: column;z-index: 1;position: relative;background-color: white;}#sk-container-id-20 div.sk-parallel-item:first-child::after {align-self: flex-end;width: 50%;}#sk-container-id-20 div.sk-parallel-item:last-child::after {align-self: flex-start;width: 50%;}#sk-container-id-20 div.sk-parallel-item:only-child::after {width: 0;}#sk-container-id-20 div.sk-dashed-wrapped {border: 1px dashed gray;margin: 0 0.4em 0.5em 0.4em;box-sizing: border-box;padding-bottom: 0.4em;background-color: white;}#sk-container-id-20 div.sk-label label {font-family: monospace;font-weight: bold;display: inline-block;line-height: 1.2em;}#sk-container-id-20 div.sk-label-container {text-align: center;}#sk-container-id-20 div.sk-container {/* jupyter's `normalize.less` sets `[hidden] { display: none; }` but bootstrap.min.css set `[hidden] { display: none !important; }` so we also need the `!important` here to be able to override the default hidden behavior on the sphinx rendered scikit-learn.org. See: https://github.com/scikit-learn/scikit-learn/issues/21755 */display: inline-block !important;position: relative;}#sk-container-id-20 div.sk-text-repr-fallback {display: none;}</style><div id=\"sk-container-id-20\" class=\"sk-top-container\"><div class=\"sk-text-repr-fallback\"><pre>LogisticRegression()</pre><b>In a Jupyter environment, please rerun this cell to show the HTML representation or trust the notebook. <br />On GitHub, the HTML representation is unable to render, please try loading this page with nbviewer.org.</b></div><div class=\"sk-container\" hidden><div class=\"sk-item\"><div class=\"sk-estimator sk-toggleable\"><input class=\"sk-toggleable__control sk-hidden--visually\" id=\"sk-estimator-id-20\" type=\"checkbox\" checked><label for=\"sk-estimator-id-20\" class=\"sk-toggleable__label sk-toggleable__label-arrow\">LogisticRegression</label><div class=\"sk-toggleable__content\"><pre>LogisticRegression()</pre></div></div></div></div></div>"
            ]
          },
          "metadata": {},
          "execution_count": 114
        }
      ]
    },
    {
      "cell_type": "markdown",
      "source": [
        "### Now since we have trained all our models to the training data, it is time to move on the evaluation part and see which is the best one."
      ],
      "metadata": {
        "id": "Yin_ySyX0-Vp"
      }
    },
    {
      "cell_type": "markdown",
      "source": [
        "# Evalutaion\n",
        "- We are going to use two metrics for evaluation i.e. score and F1Score\n",
        "- What is evaluation phase\n",
        "- Mean accuracy is like an overall grade for the model, considering all classes.\n",
        "F1 score is like a focused assessment, looking at how well the model balances between precision and recall, especially when dealing with imbalanced datasets."
      ],
      "metadata": {
        "id": "JqWHwg8O1IxQ"
      }
    },
    {
      "cell_type": "markdown",
      "source": [
        "### Mean Accuracy\n",
        "- A simple and straightforward metric, It takes the total number of correct predictions and divides it by the total number of predictions made."
      ],
      "metadata": {
        "id": "cyPxGsHu1SG4"
      }
    },
    {
      "cell_type": "code",
      "source": [
        "\n",
        "print(clf_svm.score(test_x_vectors, test_y))\n",
        "print(clf_dec.score(test_x_vectors, test_y))\n",
        "print(clf_gnb.score(dense_test_x, test_y))\n",
        "print(clf_log.score(test_x_vectors, test_y))"
      ],
      "metadata": {
        "colab": {
          "base_uri": "https://localhost:8080/"
        },
        "id": "kJxoDNlV08as",
        "outputId": "495bcff3-3161-4b86-9970-45eba7e63a4f"
      },
      "execution_count": null,
      "outputs": [
        {
          "output_type": "stream",
          "name": "stdout",
          "text": [
            "0.8006329113924051\n",
            "0.6392405063291139\n",
            "0.6234177215189873\n",
            "0.8037974683544303\n"
          ]
        }
      ]
    },
    {
      "cell_type": "markdown",
      "source": [
        "### F1 Score\n",
        "- In some datasets, one class may be more prevalent than others. Mean accuracy might be high if the model is good at predicting the majority class but performs poorly on minority classes.\n",
        "- F1 score helps highlight issues with false positives and false negatives, providing a more balanced evaluation.\n"
      ],
      "metadata": {
        "id": "7WdCyDZg3Jub"
      }
    },
    {
      "cell_type": "code",
      "source": [
        "from sklearn.metrics import f1_score\n",
        "\n",
        "print(f1_score(test_y, clf_svm.predict(test_x_vectors), average = None, labels=[Sentiment.POSITIVE, Sentiment.NEGATIVE]))\n",
        "print(f1_score(test_y, clf_dec.predict(test_x_vectors), average = None, labels=[Sentiment.POSITIVE, Sentiment.NEGATIVE]))\n",
        "print(f1_score(test_y, clf_gnb.predict(dense_test_x), average = None, labels=[Sentiment.POSITIVE, Sentiment.NEGATIVE]))\n",
        "print(f1_score(test_y, clf_log.predict(test_x_vectors), average = None, labels=[Sentiment.POSITIVE, Sentiment.NEGATIVE]))"
      ],
      "metadata": {
        "colab": {
          "base_uri": "https://localhost:8080/"
        },
        "id": "vHMJhWW51opz",
        "outputId": "ddb3325c-3b47-4c43-8af1-c141e7c774a6"
      },
      "execution_count": null,
      "outputs": [
        {
          "output_type": "stream",
          "name": "stdout",
          "text": [
            "[0.80126183 0.8       ]\n",
            "[0.65868263 0.61744966]\n",
            "[0.63608563 0.60983607]\n",
            "[0.80379747 0.80379747]\n"
          ]
        }
      ]
    },
    {
      "cell_type": "markdown",
      "source": [
        "### It looks like the SVM and the Logistic Regression model both are doing good, so let's proceed with those two."
      ],
      "metadata": {
        "id": "CzKg9Izp5NuE"
      }
    },
    {
      "cell_type": "markdown",
      "source": [
        "### Before we move on and improve these two models, let's test them by entering some text of our own"
      ],
      "metadata": {
        "id": "g_7HddY55Xt6"
      }
    },
    {
      "cell_type": "code",
      "source": [
        "# Let's enter some input of our own\n",
        "custom_input = ['The best investment of my life', \"Bad book, absolutely horrible\", \"You won't regret purchasing it\", \"It was truly a delight reading this book\", \"this book was beyond amazing! the best murder mystery book i have EVER read, the suspects are never too obvious and nor are they out of the blue, with the way holly jackson writes, you'd feel like you yourself were investigating! she writes so realistically, the characters feel so life-like, every character is understandable and the plot is marvellous, cant wait to get the rest of the series and i know i wont be disappointed. i have never gasped out loud to a book so many times but here we are with this book, i cant begin to describe how good it was, you think its over, you think everything's cooled down and solved and then bam, another story opens up. love love love this book, definitely recommend.\"]\n",
        "# Lets convert these inputs to numbers so that our model can learn\n",
        "custom_input_vectors = vectorizer.transform(custom_input)\n",
        "\n",
        "print(clf_svm.predict(custom_input_vectors))\n",
        "print(clf_log.predict(custom_input_vectors))\n",
        "print(clf_dec.predict(custom_input_vectors))"
      ],
      "metadata": {
        "colab": {
          "base_uri": "https://localhost:8080/"
        },
        "id": "IHMQ8PRG45Xw",
        "outputId": "0c155134-7ca9-4ee0-e9fd-e15dbdfeca03"
      },
      "execution_count": null,
      "outputs": [
        {
          "output_type": "stream",
          "name": "stdout",
          "text": [
            "['POSITIVE' 'NEGATIVE' 'NEGATIVE' 'NEGATIVE' 'POSITIVE']\n",
            "['POSITIVE' 'NEGATIVE' 'NEGATIVE' 'NEGATIVE' 'POSITIVE']\n",
            "['POSITIVE' 'POSITIVE' 'POSITIVE' 'NEGATIVE' 'POSITIVE']\n"
          ]
        }
      ]
    },
    {
      "cell_type": "markdown",
      "source": [
        "### Now let's see if we can improve our model even further"
      ],
      "metadata": {
        "id": "5i6HTfYU6wPK"
      }
    },
    {
      "cell_type": "markdown",
      "source": [
        "# Tuning our model\n",
        "- What do we mean by tuning our model\n",
        "- For this we are going to use GridSeachCV\n",
        "\n",
        "- Parameters can be considered as configurations or settings of a certain model that we can adjust in order to improve the overall model.\n",
        "\n",
        "### Kernels\n",
        "- They are mostly used in SVM,  are a way to transform input data into a higher-dimensional space.\n",
        "- Imagine you have a dataset with points that cannot be separated by a straight line. By using a kernel, you can transform the data into a higher-dimensional space where a hyperplane (decision boundary) can effectively separate the classes.\n",
        "\n",
        "### C (Cost parameter)\n",
        "- This parameter is also primarily used in SVM, a small C means a simple and smooth curve which might allow a few points to misclassify\n",
        "- A higher C value will now allow any points to misclassify even if it means the model is overly complex\n",
        "\n",
        "### Penalty\n",
        "- Similar to C, they are simply used to prevent the model from being overfitting by not allowing it be get overly complex\n",
        "\n",
        "### Overfitting\n",
        "- Memorizing not learning\n",
        "\n",
        "### Underfitting\n",
        "- Overly simplyfying the model and not learning enough\n",
        "\n",
        "### Grid Search CV\n",
        "- Grid Search CV is like systematically trying every combination of ingredients to find the best recipe for delicious cookies. Similarly, it systematically explores various hyperparameter combinations to find the best-performing machine learning model."
      ],
      "metadata": {
        "id": "xGqTcmoj60Pk"
      }
    },
    {
      "cell_type": "code",
      "source": [
        "from sklearn.metrics import accuracy_score\n",
        "from sklearn.model_selection import GridSearchCV\n",
        "\n",
        "# Lets setup grid search CV for SVM\n",
        "parameters = {\"kernel\": (\"linear\", \"rbf\"), \"C\": (1, 4, 8, 16, 32)}\n",
        "clf_svm = svm.SVC()\n",
        "best_clf_svm = GridSearchCV(clf_svm, parameters, cv = 5)\n",
        "best_clf_svm.fit(train_x_vectors, train_y)\n",
        "\n",
        "# Now since we know what are the best parameters, lets have a look at them\n",
        "best_params = best_clf_svm.best_params_\n",
        "print(\"Best Parameters: \", best_params)\n",
        "\n",
        "# Now let's see if the accuracy has improved or not\n",
        "test_predictions = best_clf_svm.predict(test_x_vectors)\n",
        "accuracy = accuracy_score(test_y, test_predictions)\n",
        "print(\"Accuracy on Test Set:\", accuracy)"
      ],
      "metadata": {
        "colab": {
          "base_uri": "https://localhost:8080/"
        },
        "id": "mlkHi5nz5uJZ",
        "outputId": "064d4561-6ea5-45e4-a08b-91a1a1686655"
      },
      "execution_count": null,
      "outputs": [
        {
          "output_type": "stream",
          "name": "stdout",
          "text": [
            "Best Parameters:  {'C': 1, 'kernel': 'linear'}\n",
            "Accuracy on Test Set: 0.8006329113924051\n"
          ]
        }
      ]
    },
    {
      "cell_type": "code",
      "source": [
        "# Now lets setup grid search CV for Logistic Regression model\n",
        "# We will start by intializing our model\n",
        "clf_log = LogisticRegression()\n",
        "\n",
        "param_grid = {\n",
        "    'C': [0.001, 0.01, 0.1, 1, 10, 100],  # regularization parameter\n",
        "    'penalty': ['l2']  # lbfgs solver supports only 'l2' or 'none'\n",
        "}\n",
        "\n",
        "\n",
        "clf_log = GridSearchCV(clf_log, param_grid, cv = 5, scoring=\"accuracy\")\n",
        "\n",
        "clf_log.fit(train_x_vectors, train_y)\n",
        "\n",
        "print(\"Best Hyperparameters: \", clf_log.best_params_)\n",
        "\n",
        "best_clf_log = clf_log.best_estimator_\n",
        "\n",
        "predictions = best_clf_log.predict(test_x_vectors)\n",
        "\n",
        "accuracy = accuracy_score(test_y, predictions)\n",
        "print(\"Accuracy on test set: \", format(accuracy * 100))"
      ],
      "metadata": {
        "colab": {
          "base_uri": "https://localhost:8080/"
        },
        "id": "guSaYL6B8jHj",
        "outputId": "a13cff1e-b65f-414f-f4b0-5a7f26d4a334"
      },
      "execution_count": null,
      "outputs": [
        {
          "output_type": "stream",
          "name": "stdout",
          "text": [
            "Best Hyperparameters:  {'C': 1, 'penalty': 'l2'}\n",
            "Accuracy on test set:  80.37974683544303\n"
          ]
        }
      ]
    },
    {
      "cell_type": "markdown",
      "source": [
        "# Well now we know what is the best model is, it is SVM for the following problem we are trying\n",
        "- Lets check our custom inputs on this model as well"
      ],
      "metadata": {
        "id": "A9huX4trA7lJ"
      }
    },
    {
      "cell_type": "code",
      "source": [
        "# Let's enter some input of our own\n",
        "custom_input = ['The best investment of my life', \"Bad book, absolutely horrible\", \"You won't regret purchasing it\", \"It was truly a delight reading this book\", \"this book was beyond amazing! the best murder mystery book i have EVER read, the suspects are never too obvious and nor are they out of the blue, with the way holly jackson writes, you'd feel like you yourself were investigating! she writes so realistically, the characters feel so life-like, every character is understandable and the plot is marvellous, cant wait to get the rest of the series and i know i wont be disappointed. i have never gasped out loud to a book so many times but here we are with this book, i cant begin to describe how good it was, you think its over, you think everything's cooled down and solved and then bam, another story opens up. love love love this book, definitely recommend.\"]\n",
        "# Lets convert these inputs to numbers so that our model can learn\n",
        "custom_input_vectors = vectorizer.transform(custom_input)\n",
        "\n",
        "print(best_clf_svm.predict(custom_input_vectors))"
      ],
      "metadata": {
        "colab": {
          "base_uri": "https://localhost:8080/"
        },
        "id": "1LnfMWelAQQZ",
        "outputId": "02bc7ca4-b3df-4b8b-d102-1c06e22b5570"
      },
      "execution_count": null,
      "outputs": [
        {
          "output_type": "stream",
          "name": "stdout",
          "text": [
            "['POSITIVE' 'NEGATIVE' 'NEGATIVE' 'NEGATIVE' 'POSITIVE']\n"
          ]
        }
      ]
    },
    {
      "cell_type": "markdown",
      "source": [
        "### Supervised Learning\n",
        "- Supervised learning is like having a helpful teacher guide a student through their homework. In this type of machine learning, the model is trained on a labeled dataset, where each example comes with both input data and the correct output (label).\n",
        "- In the sentiment analysis model we created, each movie review in the training data was labeled with its sentiment (positive or negative). The model learned from these labeled examples to predict the sentiment of new, unseen movie reviews."
      ],
      "metadata": {
        "id": "Wq5zdqYu5Xjv"
      }
    },
    {
      "cell_type": "code",
      "source": [],
      "metadata": {
        "id": "CeNyY6XtBUNS"
      },
      "execution_count": null,
      "outputs": []
    }
  ]
}